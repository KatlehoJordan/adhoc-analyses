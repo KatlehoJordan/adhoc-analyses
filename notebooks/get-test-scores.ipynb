{
 "cells": [
  {
   "cell_type": "markdown",
   "metadata": {},
   "source": [
    "# Get test scores\n",
    "\n",
    "## Import libraries"
   ]
  },
  {
   "cell_type": "code",
   "execution_count": 1,
   "metadata": {},
   "outputs": [],
   "source": [
    "import pandas as pd"
   ]
  },
  {
   "cell_type": "code",
   "execution_count": 2,
   "metadata": {},
   "outputs": [
    {
     "data": {
      "text/html": [
       "<div>\n",
       "<style scoped>\n",
       "    .dataframe tbody tr th:only-of-type {\n",
       "        vertical-align: middle;\n",
       "    }\n",
       "\n",
       "    .dataframe tbody tr th {\n",
       "        vertical-align: top;\n",
       "    }\n",
       "\n",
       "    .dataframe thead th {\n",
       "        text-align: right;\n",
       "    }\n",
       "</style>\n",
       "<table border=\"1\" class=\"dataframe\">\n",
       "  <thead>\n",
       "    <tr style=\"text-align: right;\">\n",
       "      <th></th>\n",
       "      <th>name</th>\n",
       "      <th>question1</th>\n",
       "      <th>question2</th>\n",
       "    </tr>\n",
       "  </thead>\n",
       "  <tbody>\n",
       "    <tr>\n",
       "      <th>0</th>\n",
       "      <td>David</td>\n",
       "      <td>[Correct;Incorrect;Other Incorrect]</td>\n",
       "      <td>[Right;Wrong;Other Wrong]</td>\n",
       "    </tr>\n",
       "    <tr>\n",
       "      <th>1</th>\n",
       "      <td>Jenny</td>\n",
       "      <td>[Correct]</td>\n",
       "      <td>[Right]</td>\n",
       "    </tr>\n",
       "    <tr>\n",
       "      <th>2</th>\n",
       "      <td>Osama</td>\n",
       "      <td>[Incorrect]</td>\n",
       "      <td>[Other Wrong]</td>\n",
       "    </tr>\n",
       "    <tr>\n",
       "      <th>3</th>\n",
       "      <td>Bin</td>\n",
       "      <td>[Other Incorrect]</td>\n",
       "      <td>[Wrong]</td>\n",
       "    </tr>\n",
       "    <tr>\n",
       "      <th>4</th>\n",
       "      <td>Anna</td>\n",
       "      <td>[Correct;Other Correct]</td>\n",
       "      <td>[Right;Other Right]</td>\n",
       "    </tr>\n",
       "  </tbody>\n",
       "</table>\n",
       "</div>"
      ],
      "text/plain": [
       "    name                            question1                  question2\n",
       "0  David  [Correct;Incorrect;Other Incorrect]  [Right;Wrong;Other Wrong]\n",
       "1  Jenny                            [Correct]                    [Right]\n",
       "2  Osama                          [Incorrect]              [Other Wrong]\n",
       "3    Bin                    [Other Incorrect]                    [Wrong]\n",
       "4   Anna              [Correct;Other Correct]        [Right;Other Right]"
      ]
     },
     "execution_count": 2,
     "metadata": {},
     "output_type": "execute_result"
    }
   ],
   "source": [
    "demo_data = pd.read_csv('../data/demo-data.csv')\n",
    "demo_data.head()"
   ]
  },
  {
   "cell_type": "code",
   "execution_count": 3,
   "metadata": {},
   "outputs": [],
   "source": [
    "question_1_correct_responses = ['Correct', 'Other Correct']\n",
    "question_2_correct_responses = ['Right', 'Other Right']\n",
    "question_1_incorrect_responses = ['Incorrect', 'Other Incorrect']\n",
    "question_2_incorrect_responses = ['Wrong', 'Other Wrong']"
   ]
  },
  {
   "cell_type": "code",
   "execution_count": 4,
   "metadata": {},
   "outputs": [],
   "source": [
    "# Write a function that checks if an object contains a value in a list\n",
    "def check_value_in_list(value, list):\n",
    "    if value in list:\n",
    "        return True\n",
    "    else:\n",
    "        return False\n",
    "    \n",
    "# Wrap that function in a new function that takes a list, cycles over each value in that list and uses it as value in the first function, and then sums the True values\n",
    "\n",
    "def count_values_in_list(list, check_list):\n",
    "    count = 0\n",
    "    for value in list:\n",
    "        if check_value_in_list(value, check_list):\n",
    "            count += 1\n",
    "    return count\n",
    "\n",
    "# Similar function but now flip it so that the count increments if values in check_list are not found in list\n",
    "\n",
    "def count_values_not_in_list(lst, check_list):\n",
    "    count = len(check_list)\n",
    "    for value in check_list:\n",
    "        if value in lst:\n",
    "            count -= 1\n",
    "    return count"
   ]
  },
  {
   "cell_type": "code",
   "execution_count": 5,
   "metadata": {},
   "outputs": [],
   "source": [
    "# Make a function that converts a string with pattern [some words;some words] and converts it to a list of strings where the semi-colon is the separator\n",
    "def convert_string_to_list(string):\n",
    "    return string.strip('[]').split(';')"
   ]
  },
  {
   "cell_type": "code",
   "execution_count": 6,
   "metadata": {},
   "outputs": [],
   "source": [
    "# Create a function for the above taking a different name and question as arguments\n",
    "def extract_response(name, question, dataframe=demo_data):\n",
    "    question_str = 'question' + str(question)  # Convert question number to column name\n",
    "    response = dataframe.loc[dataframe['name'] == name, question_str]\n",
    "    response_list = convert_string_to_list(response.values[0])\n",
    "    return response_list"
   ]
  },
  {
   "cell_type": "code",
   "execution_count": 7,
   "metadata": {},
   "outputs": [
    {
     "data": {
      "text/plain": [
       "['Correct', 'Incorrect', 'Other Incorrect']"
      ]
     },
     "execution_count": 7,
     "metadata": {},
     "output_type": "execute_result"
    }
   ],
   "source": [
    "davids_q1_responses = extract_response('David', 1)\n",
    "davids_q1_responses"
   ]
  },
  {
   "cell_type": "code",
   "execution_count": 8,
   "metadata": {},
   "outputs": [
    {
     "data": {
      "text/plain": [
       "1"
      ]
     },
     "execution_count": 8,
     "metadata": {},
     "output_type": "execute_result"
    }
   ],
   "source": [
    "davids_q1_correct_score = count_values_in_list(davids_q1_responses, question_1_correct_responses)\n",
    "davids_q1_correct_score"
   ]
  },
  {
   "cell_type": "code",
   "execution_count": 9,
   "metadata": {},
   "outputs": [
    {
     "data": {
      "text/plain": [
       "0"
      ]
     },
     "execution_count": 9,
     "metadata": {},
     "output_type": "execute_result"
    }
   ],
   "source": [
    "davids_q1_incorrect_score = count_values_not_in_list(davids_q1_responses, question_1_incorrect_responses)\n",
    "davids_q1_incorrect_score"
   ]
  },
  {
   "cell_type": "code",
   "execution_count": 17,
   "metadata": {},
   "outputs": [
    {
     "data": {
      "text/plain": [
       "1"
      ]
     },
     "execution_count": 17,
     "metadata": {},
     "output_type": "execute_result"
    }
   ],
   "source": [
    "davids_q1_total_score = davids_q1_correct_score + davids_q1_incorrect_score\n",
    "davids_q1_total_score"
   ]
  },
  {
   "cell_type": "code",
   "execution_count": 14,
   "metadata": {},
   "outputs": [
    {
     "data": {
      "text/plain": [
       "2"
      ]
     },
     "execution_count": 14,
     "metadata": {},
     "output_type": "execute_result"
    }
   ],
   "source": [
    "annas_q1_correct_score = count_values_in_list(extract_response('Anna', 1), question_1_correct_responses)\n",
    "annas_q1_correct_score"
   ]
  },
  {
   "cell_type": "code",
   "execution_count": 15,
   "metadata": {},
   "outputs": [
    {
     "data": {
      "text/plain": [
       "2"
      ]
     },
     "execution_count": 15,
     "metadata": {},
     "output_type": "execute_result"
    }
   ],
   "source": [
    "annas_q1_incorrect_score = count_values_not_in_list(extract_response('Anna', 1), question_1_incorrect_responses)\n",
    "annas_q1_incorrect_score"
   ]
  },
  {
   "cell_type": "code",
   "execution_count": 18,
   "metadata": {},
   "outputs": [
    {
     "data": {
      "text/plain": [
       "4"
      ]
     },
     "execution_count": 18,
     "metadata": {},
     "output_type": "execute_result"
    }
   ],
   "source": [
    "annas_q1_total_score = annas_q1_correct_score + annas_q1_incorrect_score\n",
    "annas_q1_total_score"
   ]
  }
 ],
 "metadata": {
  "language_info": {
   "name": "python"
  }
 },
 "nbformat": 4,
 "nbformat_minor": 2
}
